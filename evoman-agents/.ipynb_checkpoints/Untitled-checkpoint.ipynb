{
 "cells": [
  {
   "cell_type": "code",
   "execution_count": 42,
   "metadata": {},
   "outputs": [
    {
     "name": "stdout",
     "output_type": "stream",
     "text": [
      "The autoreload extension is already loaded. To reload it, use:\n",
      "  %reload_ext autoreload\n"
     ]
    }
   ],
   "source": [
    "from network import NeuralNetwork\n",
    "from evolution import GeneticAlgorithm\n",
    "%load_ext autoreload\n",
    "%autoreload 2\n",
    "\n",
    "\n",
    "model = NeuralNetwork()"
   ]
  },
  {
   "cell_type": "code",
   "execution_count": 43,
   "metadata": {},
   "outputs": [],
   "source": [
    "gen_alg = GeneticAlgorithm(population_size=20,\n",
    "                              mutation_rate=0.4,\n",
    "                              number_of_generations=10)"
   ]
  },
  {
   "cell_type": "code",
   "execution_count": 44,
   "metadata": {},
   "outputs": [],
   "source": [
    "parent = NeuralNetwork()\n",
    "mother = NeuralNetwork()"
   ]
  },
  {
   "cell_type": "code",
   "execution_count": 45,
   "metadata": {},
   "outputs": [
    {
     "name": "stdout",
     "output_type": "stream",
     "text": [
      "[array([[ 0.11599123,  0.18237913,  0.16062844, -0.03506231],\n",
      "       [-0.3233217 ,  0.43587685, -0.09955978,  0.05502808],\n",
      "       [-0.01911116, -0.42740595, -0.48978925, -0.45717013],\n",
      "       [ 0.4587748 ,  0.3402021 , -0.24472368, -0.360155  ],\n",
      "       [ 0.27146566,  0.1737231 , -0.49791586,  0.4296224 ],\n",
      "       [-0.20578563,  0.22413242,  0.01258004,  0.46739995],\n",
      "       [-0.37528765, -0.41275918, -0.40884054,  0.05230486],\n",
      "       [-0.00842953, -0.3854164 , -0.14680493, -0.26699984],\n",
      "       [-0.17824376, -0.33093762,  0.35329032,  0.20919144],\n",
      "       [ 0.310768  , -0.4771496 ,  0.3034426 ,  0.44959927],\n",
      "       [-0.36175   ,  0.30275953, -0.10317481, -0.2904035 ],\n",
      "       [-0.35054636, -0.43860853, -0.36450684,  0.19607043],\n",
      "       [-0.01568341, -0.28821826,  0.20143473, -0.32684898],\n",
      "       [ 0.41301978,  0.44331527,  0.44632113,  0.48131096],\n",
      "       [-0.14183664, -0.12411427,  0.38032377,  0.45661974],\n",
      "       [ 0.48851573,  0.01386249, -0.3213452 , -0.04874015],\n",
      "       [ 0.06135094, -0.03632283, -0.44701493,  0.04008567],\n",
      "       [ 0.20361006,  0.0489186 ,  0.23977888,  0.35267484],\n",
      "       [ 0.29262996,  0.14716613,  0.33785176, -0.45286894],\n",
      "       [-0.37392807, -0.4605211 , -0.2502874 ,  0.03076184]],\n",
      "      dtype=float32), array([0., 0., 0., 0.], dtype=float32), array([[-0.5355553 ,  0.72660303, -0.37983456, -0.5653126 ,  0.18795371],\n",
      "       [-0.5865441 ,  0.49790788, -0.22935373,  0.60245156, -0.02871662],\n",
      "       [ 0.42235374,  0.78468263,  0.27844095,  0.17355055,  0.49347687],\n",
      "       [ 0.33494318, -0.51893455,  0.7751552 , -0.12105113, -0.30527675]],\n",
      "      dtype=float32), array([0., 0., 0., 0., 0.], dtype=float32)]\n"
     ]
    }
   ],
   "source": [
    "print(parent._model.get_weights())"
   ]
  },
  {
   "cell_type": "code",
   "execution_count": 46,
   "metadata": {},
   "outputs": [
    {
     "name": "stdout",
     "output_type": "stream",
     "text": [
      "[array([[-0.38760185,  0.27916825, -0.07335818,  0.14728093],\n",
      "       [ 0.44176042,  0.31690073,  0.17509985,  0.22363102],\n",
      "       [-0.26967967,  0.20766222, -0.04418564, -0.24662912],\n",
      "       [ 0.04894328, -0.2841283 ,  0.03848064, -0.21238637],\n",
      "       [ 0.0048964 ,  0.40404654,  0.03848946, -0.05661952],\n",
      "       [ 0.4163667 ,  0.13020813, -0.46320534,  0.23296356],\n",
      "       [-0.48699737, -0.36922014,  0.06696069,  0.2732259 ],\n",
      "       [ 0.11937952,  0.30077076, -0.35606563,  0.01469028],\n",
      "       [-0.24314642,  0.4957056 ,  0.4261129 ,  0.17485738],\n",
      "       [-0.46675777, -0.2969017 , -0.43631482,  0.32224405],\n",
      "       [ 0.30816352,  0.35907996, -0.31888318,  0.46626663],\n",
      "       [ 0.2849667 , -0.37499237, -0.36111522, -0.494493  ],\n",
      "       [-0.3291211 , -0.4115833 ,  0.19835472,  0.35088825],\n",
      "       [-0.21693528, -0.3283956 ,  0.11431956, -0.4039954 ],\n",
      "       [-0.01931763, -0.02527905,  0.2953775 , -0.13440537],\n",
      "       [ 0.11186516, -0.49732912,  0.00914192,  0.37199795],\n",
      "       [-0.41514134,  0.07837903, -0.01849759,  0.49190366],\n",
      "       [-0.2936082 ,  0.10120535,  0.24036264, -0.12583256],\n",
      "       [ 0.18473351,  0.09297764,  0.18998122, -0.31732655],\n",
      "       [-0.1383102 ,  0.39817715,  0.04757285,  0.09372008]],\n",
      "      dtype=float32), array([0., 0., 0., 0.], dtype=float32), array([[-0.17959523,  0.34383273, -0.5131118 , -0.22644752,  0.21494317],\n",
      "       [-0.77592194,  0.06292659,  0.11242408, -0.5895922 ,  0.06152481],\n",
      "       [-0.7404048 ,  0.63697493,  0.7549529 , -0.8014278 ,  0.4250766 ],\n",
      "       [ 0.25511622, -0.67649376, -0.24119419, -0.60418236, -0.4269487 ]],\n",
      "      dtype=float32), array([0., 0., 0., 0., 0.], dtype=float32)]\n"
     ]
    }
   ],
   "source": [
    "print(mother._model.get_weights())"
   ]
  },
  {
   "cell_type": "code",
   "execution_count": 48,
   "metadata": {},
   "outputs": [
    {
     "name": "stdout",
     "output_type": "stream",
     "text": [
      "<class 'int'>\n"
     ]
    }
   ],
   "source": [
    "parent, mother = gen_alg.crossover(parent, mother)"
   ]
  },
  {
   "cell_type": "code",
   "execution_count": 50,
   "metadata": {},
   "outputs": [
    {
     "name": "stdout",
     "output_type": "stream",
     "text": [
      "[[-0.17959523  0.34383273 -0.5131118  -0.22644752  0.21494317]\n",
      " [-0.77592194  0.06292659  0.11242408 -0.5895922   0.06152481]\n",
      " [-0.7404048   0.63697493  0.7549529  -0.8014278   0.4250766 ]\n",
      " [ 0.25511622 -0.67649376 -0.24119419 -0.60418236 -0.4269487 ]]\n"
     ]
    }
   ],
   "source": [
    "print(mother._model.get_weights()[2])"
   ]
  },
  {
   "cell_type": "code",
   "execution_count": 41,
   "metadata": {},
   "outputs": [],
   "source": [
    "gen_alg.crossover"
   ]
  },
  {
   "cell_type": "code",
   "execution_count": 49,
   "metadata": {},
   "outputs": [
    {
     "data": {
      "text/plain": [
       "2"
      ]
     },
     "execution_count": 49,
     "metadata": {},
     "output_type": "execute_result"
    }
   ],
   "source": [
    "s"
   ]
  },
  {
   "cell_type": "code",
   "execution_count": null,
   "metadata": {},
   "outputs": [],
   "source": []
  }
 ],
 "metadata": {
  "kernelspec": {
   "display_name": "Python 3",
   "language": "python",
   "name": "python3"
  },
  "language_info": {
   "codemirror_mode": {
    "name": "ipython",
    "version": 3
   },
   "file_extension": ".py",
   "mimetype": "text/x-python",
   "name": "python",
   "nbconvert_exporter": "python",
   "pygments_lexer": "ipython3",
   "version": "3.7.4"
  },
  "toc": {
   "base_numbering": 1,
   "nav_menu": {},
   "number_sections": true,
   "sideBar": true,
   "skip_h1_title": false,
   "title_cell": "Table of Contents",
   "title_sidebar": "Contents",
   "toc_cell": false,
   "toc_position": {},
   "toc_section_display": true,
   "toc_window_display": false
  }
 },
 "nbformat": 4,
 "nbformat_minor": 2
}
